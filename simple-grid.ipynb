{
 "cells": [
  {
   "cell_type": "code",
   "execution_count": 1,
   "metadata": {},
   "outputs": [],
   "source": [
    "import time\n",
    "import requests\n",
    "import pandas as pd\n",
    "import pypsa\n"
   ]
  },
  {
   "cell_type": "code",
   "execution_count": 2,
   "metadata": {},
   "outputs": [],
   "source": [
    "# Initialize network\n",
    "network = pypsa.Network()"
   ]
  },
  {
   "cell_type": "code",
   "execution_count": 6,
   "metadata": {},
   "outputs": [
    {
     "name": "stderr",
     "output_type": "stream",
     "text": [
      "WARNING:pypsa.io:The following buses are already defined and will be skipped (use overwrite=True to overwrite): generation\n",
      "WARNING:pypsa.io:The following buses are already defined and will be skipped (use overwrite=True to overwrite): load\n",
      "WARNING:pypsa.io:The following generators are already defined and will be skipped (use overwrite=True to overwrite): gen\n",
      "WARNING:pypsa.io:The following loads are already defined and will be skipped (use overwrite=True to overwrite): load\n"
     ]
    },
    {
     "data": {
      "text/plain": [
       "Index(['line'], dtype='object')"
      ]
     },
     "execution_count": 6,
     "metadata": {},
     "output_type": "execute_result"
    }
   ],
   "source": [
    "#Add buses for generator & load\n",
    "network.add(\"Bus\", \"generation\")\n",
    "network.add(\"Bus\", \"load\")\n",
    "\n",
    "#Add generator at generation bus\n",
    "network.add(\"Generator\", \"gen\", bus=\"generation\", p_nom=100)\n",
    "\n",
    "#Add load at load bus\n",
    "network.add(\"Load\", \"load\", bus=\"load\", p_set=80)\n",
    "\n",
    "#Add a transmission line between the buses\n",
    "network.add(\"Line\", \"line\", bus0=\"generation\", bus1=\"load\", p_nom=100)\n"
   ]
  },
  {
   "cell_type": "code",
   "execution_count": 7,
   "metadata": {},
   "outputs": [
    {
     "name": "stderr",
     "output_type": "stream",
     "text": [
      "INFO:pypsa.pf:Performing non-linear load-flow on AC sub-network <pypsa.components.SubNetwork object at 0x159a4b1d0> for snapshots Index(['now'], dtype='object', name='snapshot')\n",
      "WARNING:pypsa.pf:Power flow did not converge for ['now'].\n"
     ]
    },
    {
     "name": "stdout",
     "output_type": "stream",
     "text": [
      "            v_nom type    x    y carrier unit  v_mag_pu_set  v_mag_pu_min  \\\n",
      "Bus                                                                         \n",
      "generation    1.0       0.0  0.0      AC                1.0           0.0   \n",
      "load          1.0       0.0  0.0      AC                1.0           0.0   \n",
      "\n",
      "            v_mag_pu_max control generator sub_network  \n",
      "Bus                                                     \n",
      "generation           inf   Slack       gen           0  \n",
      "load                 inf      PQ      None           0  \n"
     ]
    }
   ],
   "source": [
    "#Run the power flow analysis\n",
    "network.pf()\n",
    "print(network.buses)"
   ]
  },
  {
   "cell_type": "markdown",
   "metadata": {},
   "source": [
    "NREL API DATA FOR JAN 2025 NYC"
   ]
  },
  {
   "cell_type": "code",
   "execution_count": 19,
   "metadata": {},
   "outputs": [
    {
     "name": "stdout",
     "output_type": "stream",
     "text": [
      "Error fetching data: 400\n",
      "File 'solar_data.csv' does not exist or is empty.\n"
     ]
    }
   ],
   "source": [
    "import requests\n",
    "import time\n",
    "import pandas as pd\n",
    "import os\n",
    "\n",
    "# Example API call\n",
    "url = \"https://developer.nrel.gov/api/solar/nsrdb_psm3_download.csv\"\n",
    "params = {\n",
    "    \"api_key\": \"vcrBDcmJu7vmFIPTOueMRxnb2UZD4YD6zsnZXq37\",\n",
    "    \"lat\": 40.7128,\n",
    "    \"lon\": -74.0060,\n",
    "    \"start_date\": \"2025-01-01\",\n",
    "    \"end_date\": \"2025-01-31\",\n",
    "    \"variables\": \"ghi,dni\",\n",
    "    \"timestep\": \"day\"\n",
    "}\n",
    "\n",
    "response = requests.get(url, params=params)\n",
    "\n",
    "# Handle rate limit if encountered (retry if rate limit is reached)\n",
    "if response.status_code == 429:  # Rate limit error\n",
    "    print(\"Rate limit reached, waiting 60 seconds before retrying.\")\n",
    "    time.sleep(60)\n",
    "    response = requests.get(url, params=params)  # Retry the request\n",
    "\n",
    "# Check if the response is successful (status code 200)\n",
    "if response.status_code == 200:\n",
    "    # Save data to CSV (optional)\n",
    "    with open('solar_data.csv', 'wb') as file:\n",
    "        file.write(response.content)\n",
    "    print(\"Data successfully fetched and saved!\")\n",
    "else:\n",
    "    print(\"Error fetching data:\", response.status_code)\n",
    "\n",
    "# Check if the file exists and is not empty before loading it into a Pandas DataFrame\n",
    "if os.path.exists('solar_data.csv') and os.path.getsize('solar_data.csv') > 0:\n",
    "    try:\n",
    "        # Load the solar data into a Pandas DataFrame\n",
    "        solar_data = pd.read_csv('solar_data.csv')\n",
    "        print(\"Data successfully loaded into DataFrame!\")\n",
    "    except pd.errors.EmptyDataError:\n",
    "        print(\"File 'solar_data.csv' is empty or has no columns to parse.\")\n",
    "else:\n",
    "    print(\"File 'solar_data.csv' does not exist or is empty.\")\n",
    "\n"
   ]
  },
  {
   "cell_type": "code",
   "execution_count": null,
   "metadata": {},
   "outputs": [],
   "source": []
  }
 ],
 "metadata": {
  "kernelspec": {
   "display_name": "smart-grid",
   "language": "python",
   "name": "python3"
  },
  "language_info": {
   "codemirror_mode": {
    "name": "ipython",
    "version": 3
   },
   "file_extension": ".py",
   "mimetype": "text/x-python",
   "name": "python",
   "nbconvert_exporter": "python",
   "pygments_lexer": "ipython3",
   "version": "3.12.7"
  }
 },
 "nbformat": 4,
 "nbformat_minor": 2
}
