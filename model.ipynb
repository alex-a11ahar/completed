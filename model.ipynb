{
 "cells": [
  {
   "cell_type": "code",
   "execution_count": 3,
   "metadata": {},
   "outputs": [],
   "source": [
    "import requests\n",
    "import pandas as pd"
   ]
  },
  {
   "cell_type": "code",
   "execution_count": 28,
   "metadata": {},
   "outputs": [],
   "source": [
    "#Fetch Data from FPL API\n",
    "url = \"https://fantasy.premierleague.com/api/bootstrap-static/\"\n",
    "response = requests.get(url)\n",
    "data = response.json()"
   ]
  },
  {
   "cell_type": "code",
   "execution_count": 31,
   "metadata": {},
   "outputs": [],
   "source": [
    "# Extract Team Data\n",
    "teams_data = data['teams']\n",
    "teams = pd.DataFrame(teams_data)\n",
    "\n",
    "# Clean and explore team data\n",
    "teams_cleaned = teams[['id', 'name', 'strength_attack_home', 'strength_attack_away', \n",
    "                       'strength_defence_home', 'strength_defence_away', 'strength_overall_home', \n",
    "                       'strength_overall_away', 'form', 'team_division']]"
   ]
  },
  {
   "cell_type": "code",
   "execution_count": 33,
   "metadata": {},
   "outputs": [],
   "source": [
    "# Extract player data\n",
    "players_data = data['elements']\n",
    "players = pd.DataFrame(players_data)\n",
    "\n",
    "# Extract relevant columns for Player-Level Stats\n",
    "players_cleaned = players[['id', 'web_name', 'team', 'expected_goals', 'expected_assists', \n",
    "                           'minutes', 'form', 'news']]"
   ]
  },
  {
   "cell_type": "code",
   "execution_count": 35,
   "metadata": {},
   "outputs": [],
   "source": [
    "# Filter Active Players\n",
    "# Remove players who have 0 minutes or have injury flags (e.g. 'news' is not empty)\n",
    "players_active = players_cleaned[players_cleaned['minutes'] > 0]\n",
    "players_active = players_active[players_active['news'].isna()]  # Filter out injured players"
   ]
  },
  {
   "cell_type": "code",
   "execution_count": 39,
   "metadata": {},
   "outputs": [],
   "source": [
    "# Calculate Averages for Team Stats\n",
    "teams_cleaned.loc[:, 'average_attack_strength'] = (teams_cleaned['strength_attack_home'] + teams_cleaned['strength_attack_away']) / 2\n",
    "teams_cleaned.loc[:, 'average_defence_strength'] = (teams_cleaned['strength_defence_home'] + teams_cleaned['strength_defence_away']) / 2\n",
    "\n",
    "# Apply form conversion to numeric (float) and handle missing values\n",
    "teams_cleaned.loc[:, 'average_form'] = teams_cleaned['form'].apply(lambda x: float(x) if x else 0)\n"
   ]
  },
  {
   "cell_type": "code",
   "execution_count": 45,
   "metadata": {},
   "outputs": [
    {
     "name": "stdout",
     "output_type": "stream",
     "text": [
      "          name  average_attack_strength  average_defence_strength  \\\n",
      "0      Arsenal                   1315.0                    1295.0   \n",
      "1  Aston Villa                   1120.0                    1230.0   \n",
      "2  Bournemouth                   1110.0                    1200.0   \n",
      "3    Brentford                   1085.0                    1220.0   \n",
      "4     Brighton                   1090.0                    1170.0   \n",
      "\n",
      "   average_form  average_xg  average_xa  average_minutes  \n",
      "0             0           0           0                0  \n",
      "1             0           0           0                0  \n",
      "2             0           0           0                0  \n",
      "3             0           0           0                0  \n",
      "4             0           0           0                0  \n"
     ]
    }
   ],
   "source": [
    "# Aggregate player stats for each team\n",
    "team_stats = []\n",
    "for team_id in teams_cleaned['id']:\n",
    "    # Filter players for the current team\n",
    "    team_players = players_active[players_active['team'] == team_id]\n",
    "    \n",
    "    # If the team has no active players, set stats to 0\n",
    "    if team_players.empty:\n",
    "        avg_xg = avg_xa = avg_minutes = 0\n",
    "    else:\n",
    "        # Calculate average xG, xA, and minutes for the team\n",
    "        avg_xg = team_players['expected_goals'].mean()\n",
    "        avg_xa = team_players['expected_assists'].mean()\n",
    "        avg_minutes = team_players['minutes'].mean()\n",
    "\n",
    "    # Append stats to team_stats\n",
    "    team_stats.append({\n",
    "        'team_id': team_id,\n",
    "        'average_xg': avg_xg,\n",
    "        'average_xa': avg_xa,\n",
    "        'average_minutes': avg_minutes,\n",
    "    })\n",
    "\n",
    "team_stats_df = pd.DataFrame(team_stats)\n",
    "\n",
    "# Merge Team-Level Stats with Aggregated Player Stats\n",
    "teams_stats_final = pd.merge(teams_cleaned, team_stats_df, left_on='id', right_on='team_id', how='left')\n",
    "\n",
    "# Display the final DataFrame\n",
    "print(teams_stats_final[['name', 'average_attack_strength', 'average_defence_strength', 'average_form', \n",
    "                         'average_xg', 'average_xa', 'average_minutes']].head())\n"
   ]
  },
  {
   "cell_type": "code",
   "execution_count": null,
   "metadata": {},
   "outputs": [],
   "source": [
    "print(teams_cleaned[['id', 'name']].head())\n",
    "print(team_stats_df.head())"
   ]
  },
  {
   "cell_type": "code",
   "execution_count": 47,
   "metadata": {},
   "outputs": [
    {
     "name": "stdout",
     "output_type": "stream",
     "text": [
      "          name  average_attack_strength  average_defence_strength  \\\n",
      "0      Arsenal                   1315.0                    1295.0   \n",
      "1  Aston Villa                   1120.0                    1230.0   \n",
      "2  Bournemouth                   1110.0                    1200.0   \n",
      "3    Brentford                   1085.0                    1220.0   \n",
      "4     Brighton                   1090.0                    1170.0   \n",
      "\n",
      "   average_form  average_xg  average_xa  average_minutes  \n",
      "0             0           0           0                0  \n",
      "1             0           0           0                0  \n",
      "2             0           0           0                0  \n",
      "3             0           0           0                0  \n",
      "4             0           0           0                0  \n"
     ]
    }
   ],
   "source": [
    "# Step 7: Display the Cleaned and Processed Data\n",
    "print(teams_stats_final[['name', 'average_attack_strength', 'average_defence_strength', 'average_form', \n",
    "                         'average_xg', 'average_xa', 'average_minutes']].head())"
   ]
  },
  {
   "cell_type": "code",
   "execution_count": null,
   "metadata": {},
   "outputs": [],
   "source": []
  }
 ],
 "metadata": {
  "kernelspec": {
   "display_name": "fpl_model",
   "language": "python",
   "name": "python3"
  },
  "language_info": {
   "codemirror_mode": {
    "name": "ipython",
    "version": 3
   },
   "file_extension": ".py",
   "mimetype": "text/x-python",
   "name": "python",
   "nbconvert_exporter": "python",
   "pygments_lexer": "ipython3",
   "version": "3.9.18"
  }
 },
 "nbformat": 4,
 "nbformat_minor": 2
}
